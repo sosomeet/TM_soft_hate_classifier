{
 "cells": [
  {
   "cell_type": "code",
   "execution_count": 1,
   "id": "dc00fb9c",
   "metadata": {},
   "outputs": [
    {
     "name": "stdout",
     "output_type": "stream",
     "text": [
      "Collecting datasets\n",
      "  Downloading datasets-3.6.0-py3-none-any.whl.metadata (19 kB)\n",
      "Requirement already satisfied: filelock in c:\\users\\dasolkim7\\appdata\\roaming\\python\\python312\\site-packages (from datasets) (3.18.0)\n",
      "Requirement already satisfied: numpy>=1.17 in c:\\users\\dasolkim7\\appdata\\roaming\\python\\python312\\site-packages (from datasets) (1.26.4)\n",
      "Collecting pyarrow>=15.0.0 (from datasets)\n",
      "  Downloading pyarrow-20.0.0-cp312-cp312-win_amd64.whl.metadata (3.4 kB)\n",
      "Requirement already satisfied: dill<0.3.9,>=0.3.0 in c:\\users\\dasolkim7\\appdata\\local\\anaconda3\\lib\\site-packages (from datasets) (0.3.8)\n",
      "Requirement already satisfied: pandas in c:\\users\\dasolkim7\\appdata\\roaming\\python\\python312\\site-packages (from datasets) (2.2.3)\n",
      "Requirement already satisfied: requests>=2.32.2 in c:\\users\\dasolkim7\\appdata\\roaming\\python\\python312\\site-packages (from datasets) (2.32.3)\n",
      "Requirement already satisfied: tqdm>=4.66.3 in c:\\users\\dasolkim7\\appdata\\roaming\\python\\python312\\site-packages (from datasets) (4.67.1)\n",
      "Collecting xxhash (from datasets)\n",
      "  Downloading xxhash-3.5.0-cp312-cp312-win_amd64.whl.metadata (13 kB)\n",
      "Collecting multiprocess<0.70.17 (from datasets)\n",
      "  Downloading multiprocess-0.70.16-py312-none-any.whl.metadata (7.2 kB)\n",
      "Requirement already satisfied: fsspec<=2025.3.0,>=2023.1.0 in c:\\users\\dasolkim7\\appdata\\roaming\\python\\python312\\site-packages (from fsspec[http]<=2025.3.0,>=2023.1.0->datasets) (2025.3.0)\n",
      "Collecting huggingface-hub>=0.24.0 (from datasets)\n",
      "  Downloading huggingface_hub-0.31.2-py3-none-any.whl.metadata (13 kB)\n",
      "Requirement already satisfied: packaging in c:\\users\\dasolkim7\\appdata\\roaming\\python\\python312\\site-packages (from datasets) (24.1)\n",
      "Requirement already satisfied: pyyaml>=5.1 in c:\\users\\dasolkim7\\appdata\\roaming\\python\\python312\\site-packages (from datasets) (6.0.2)\n",
      "Requirement already satisfied: aiohttp!=4.0.0a0,!=4.0.0a1 in c:\\users\\dasolkim7\\appdata\\roaming\\python\\python312\\site-packages (from fsspec[http]<=2025.3.0,>=2023.1.0->datasets) (3.11.7)\n",
      "Requirement already satisfied: typing-extensions>=3.7.4.3 in c:\\users\\dasolkim7\\appdata\\roaming\\python\\python312\\site-packages (from huggingface-hub>=0.24.0->datasets) (4.12.2)\n",
      "Requirement already satisfied: charset-normalizer<4,>=2 in c:\\users\\dasolkim7\\appdata\\roaming\\python\\python312\\site-packages (from requests>=2.32.2->datasets) (3.4.0)\n",
      "Requirement already satisfied: idna<4,>=2.5 in c:\\users\\dasolkim7\\appdata\\roaming\\python\\python312\\site-packages (from requests>=2.32.2->datasets) (3.10)\n",
      "Requirement already satisfied: urllib3<3,>=1.21.1 in c:\\users\\dasolkim7\\appdata\\roaming\\python\\python312\\site-packages (from requests>=2.32.2->datasets) (2.2.3)\n",
      "Requirement already satisfied: certifi>=2017.4.17 in c:\\users\\dasolkim7\\appdata\\roaming\\python\\python312\\site-packages (from requests>=2.32.2->datasets) (2024.8.30)\n",
      "Requirement already satisfied: colorama in c:\\users\\dasolkim7\\appdata\\roaming\\python\\python312\\site-packages (from tqdm>=4.66.3->datasets) (0.4.6)\n",
      "Requirement already satisfied: python-dateutil>=2.8.2 in c:\\users\\dasolkim7\\appdata\\roaming\\python\\python312\\site-packages (from pandas->datasets) (2.9.0.post0)\n",
      "Requirement already satisfied: pytz>=2020.1 in c:\\users\\dasolkim7\\appdata\\roaming\\python\\python312\\site-packages (from pandas->datasets) (2024.2)\n",
      "Requirement already satisfied: tzdata>=2022.7 in c:\\users\\dasolkim7\\appdata\\roaming\\python\\python312\\site-packages (from pandas->datasets) (2024.2)\n",
      "Requirement already satisfied: aiohappyeyeballs>=2.3.0 in c:\\users\\dasolkim7\\appdata\\roaming\\python\\python312\\site-packages (from aiohttp!=4.0.0a0,!=4.0.0a1->fsspec[http]<=2025.3.0,>=2023.1.0->datasets) (2.4.3)\n",
      "Requirement already satisfied: aiosignal>=1.1.2 in c:\\users\\dasolkim7\\appdata\\roaming\\python\\python312\\site-packages (from aiohttp!=4.0.0a0,!=4.0.0a1->fsspec[http]<=2025.3.0,>=2023.1.0->datasets) (1.3.1)\n",
      "Requirement already satisfied: attrs>=17.3.0 in c:\\users\\dasolkim7\\appdata\\roaming\\python\\python312\\site-packages (from aiohttp!=4.0.0a0,!=4.0.0a1->fsspec[http]<=2025.3.0,>=2023.1.0->datasets) (24.2.0)\n",
      "Requirement already satisfied: frozenlist>=1.1.1 in c:\\users\\dasolkim7\\appdata\\roaming\\python\\python312\\site-packages (from aiohttp!=4.0.0a0,!=4.0.0a1->fsspec[http]<=2025.3.0,>=2023.1.0->datasets) (1.5.0)\n",
      "Requirement already satisfied: multidict<7.0,>=4.5 in c:\\users\\dasolkim7\\appdata\\roaming\\python\\python312\\site-packages (from aiohttp!=4.0.0a0,!=4.0.0a1->fsspec[http]<=2025.3.0,>=2023.1.0->datasets) (6.1.0)\n",
      "Requirement already satisfied: propcache>=0.2.0 in c:\\users\\dasolkim7\\appdata\\roaming\\python\\python312\\site-packages (from aiohttp!=4.0.0a0,!=4.0.0a1->fsspec[http]<=2025.3.0,>=2023.1.0->datasets) (0.2.0)\n",
      "Requirement already satisfied: yarl<2.0,>=1.17.0 in c:\\users\\dasolkim7\\appdata\\roaming\\python\\python312\\site-packages (from aiohttp!=4.0.0a0,!=4.0.0a1->fsspec[http]<=2025.3.0,>=2023.1.0->datasets) (1.18.0)\n",
      "Requirement already satisfied: six>=1.5 in c:\\users\\dasolkim7\\appdata\\roaming\\python\\python312\\site-packages (from python-dateutil>=2.8.2->pandas->datasets) (1.16.0)\n",
      "Downloading datasets-3.6.0-py3-none-any.whl (491 kB)\n",
      "Downloading huggingface_hub-0.31.2-py3-none-any.whl (484 kB)\n",
      "Downloading multiprocess-0.70.16-py312-none-any.whl (146 kB)\n",
      "Downloading pyarrow-20.0.0-cp312-cp312-win_amd64.whl (25.7 MB)\n",
      "   ---------------------------------------- 0.0/25.7 MB ? eta -:--:--\n",
      "   ----------- ---------------------------- 7.3/25.7 MB 45.1 MB/s eta 0:00:01\n",
      "   ----------- ---------------------------- 7.3/25.7 MB 45.1 MB/s eta 0:00:01\n",
      "   --------------- ------------------------ 10.0/25.7 MB 15.5 MB/s eta 0:00:02\n",
      "   ------------------------------ --------- 19.7/25.7 MB 23.0 MB/s eta 0:00:01\n",
      "   ---------------------------------------  25.4/25.7 MB 26.4 MB/s eta 0:00:01\n",
      "   ---------------------------------------- 25.7/25.7 MB 22.9 MB/s eta 0:00:00\n",
      "Downloading xxhash-3.5.0-cp312-cp312-win_amd64.whl (30 kB)\n",
      "Installing collected packages: xxhash, pyarrow, multiprocess, huggingface-hub, datasets\n",
      "  Attempting uninstall: pyarrow\n",
      "    Found existing installation: pyarrow 14.0.2\n",
      "    Uninstalling pyarrow-14.0.2:\n",
      "      Successfully uninstalled pyarrow-14.0.2\n",
      "Successfully installed datasets-3.6.0 huggingface-hub-0.31.2 multiprocess-0.70.16 pyarrow-20.0.0 xxhash-3.5.0\n"
     ]
    },
    {
     "name": "stderr",
     "output_type": "stream",
     "text": [
      "ERROR: pip's dependency resolver does not currently take into account all the packages that are installed. This behaviour is the source of the following dependency conflicts.\n",
      "streamlit 1.32.0 requires packaging<24,>=16.8, but you have packaging 24.1 which is incompatible.\n",
      "streamlit 1.32.0 requires protobuf<5,>=3.20, but you have protobuf 5.29.3 which is incompatible.\n",
      "streamlit 1.32.0 requires tenacity<9,>=8.1.0, but you have tenacity 9.0.0 which is incompatible.\n"
     ]
    }
   ],
   "source": [
    "!pip install datasets"
   ]
  },
  {
   "cell_type": "code",
   "execution_count": 2,
   "id": "d65d8879",
   "metadata": {},
   "outputs": [
    {
     "data": {
      "application/vnd.jupyter.widget-view+json": {
       "model_id": "75eedc82867740258029785df8292733",
       "version_major": 2,
       "version_minor": 0
      },
      "text/plain": [
       "README.md:   0%|          | 0.00/1.50k [00:00<?, ?B/s]"
      ]
     },
     "metadata": {},
     "output_type": "display_data"
    },
    {
     "name": "stderr",
     "output_type": "stream",
     "text": [
      "c:\\Users\\dasolkim7\\AppData\\Local\\anaconda3\\Lib\\site-packages\\huggingface_hub\\file_download.py:143: UserWarning: `huggingface_hub` cache-system uses symlinks by default to efficiently store duplicated files but your machine does not support them in C:\\Users\\dasolkim7\\.cache\\huggingface\\hub\\datasets--nayohan--KOLD. Caching files will still work but in a degraded version that might require more space on your disk. This warning can be disabled by setting the `HF_HUB_DISABLE_SYMLINKS_WARNING` environment variable. For more details, see https://huggingface.co/docs/huggingface_hub/how-to-cache#limitations.\n",
      "To support symlinks on Windows, you either need to activate Developer Mode or to run Python as an administrator. In order to activate developer mode, see this article: https://docs.microsoft.com/en-us/windows/apps/get-started/enable-your-device-for-development\n",
      "  warnings.warn(message)\n"
     ]
    },
    {
     "data": {
      "application/vnd.jupyter.widget-view+json": {
       "model_id": "86e5d5a813ea49a98b94d6528c4024e1",
       "version_major": 2,
       "version_minor": 0
      },
      "text/plain": [
       "train-00000-of-00001.parquet:   0%|          | 0.00/8.18M [00:00<?, ?B/s]"
      ]
     },
     "metadata": {},
     "output_type": "display_data"
    },
    {
     "data": {
      "application/vnd.jupyter.widget-view+json": {
       "model_id": "870c1c4b00d94a26ab8cd185c81644ba",
       "version_major": 2,
       "version_minor": 0
      },
      "text/plain": [
       "Generating train split:   0%|          | 0/40429 [00:00<?, ? examples/s]"
      ]
     },
     "metadata": {},
     "output_type": "display_data"
    }
   ],
   "source": [
    "from datasets import load_dataset\n",
    "ds = load_dataset(\"nayohan/KOLD\")"
   ]
  },
  {
   "cell_type": "code",
   "execution_count": 3,
   "id": "049c86b8",
   "metadata": {},
   "outputs": [
    {
     "data": {
      "text/plain": [
       "DatasetDict({\n",
       "    train: Dataset({\n",
       "        features: ['guid', 'source', 'date', 'title', 'comment', 'OFF', 'TGT', 'GRP', 'OFF_span', 'TGT_span', 'raw_labels'],\n",
       "        num_rows: 40429\n",
       "    })\n",
       "})"
      ]
     },
     "execution_count": 3,
     "metadata": {},
     "output_type": "execute_result"
    }
   ],
   "source": [
    "ds"
   ]
  },
  {
   "cell_type": "code",
   "execution_count": null,
   "id": "a4f78ca9",
   "metadata": {},
   "outputs": [
    {
     "data": {
      "text/html": [
       "<div>\n",
       "<style scoped>\n",
       "    .dataframe tbody tr th:only-of-type {\n",
       "        vertical-align: middle;\n",
       "    }\n",
       "\n",
       "    .dataframe tbody tr th {\n",
       "        vertical-align: top;\n",
       "    }\n",
       "\n",
       "    .dataframe thead th {\n",
       "        text-align: right;\n",
       "    }\n",
       "</style>\n",
       "<table border=\"1\" class=\"dataframe\">\n",
       "  <thead>\n",
       "    <tr style=\"text-align: right;\">\n",
       "      <th></th>\n",
       "      <th>guid</th>\n",
       "      <th>source</th>\n",
       "      <th>date</th>\n",
       "      <th>title</th>\n",
       "      <th>comment</th>\n",
       "      <th>OFF</th>\n",
       "      <th>TGT</th>\n",
       "      <th>GRP</th>\n",
       "      <th>OFF_span</th>\n",
       "      <th>TGT_span</th>\n",
       "      <th>raw_labels</th>\n",
       "    </tr>\n",
       "  </thead>\n",
       "  <tbody>\n",
       "    <tr>\n",
       "      <th>0</th>\n",
       "      <td>kold-v1_00000</td>\n",
       "      <td>naver_news</td>\n",
       "      <td>2021-07-25</td>\n",
       "      <td>페미니즘이 범죄가 되는 나라 [삶과 문화]</td>\n",
       "      <td>남녀평등 주장할 거면 여성징병제에도 동의하라고ㅋㅋㅋ 그리고 내 말에 그냥 시비만 걸...</td>\n",
       "      <td>True</td>\n",
       "      <td>group</td>\n",
       "      <td>others-feminist</td>\n",
       "      <td>쳐받으면서 왜 차별받는다고 말하는지 말해보라고ㅋㅋㅋ</td>\n",
       "      <td></td>\n",
       "      <td>[{'annotator_id': 191510, 'off_end_idx': [84],...</td>\n",
       "    </tr>\n",
       "    <tr>\n",
       "      <th>1</th>\n",
       "      <td>kold-v1_00001</td>\n",
       "      <td>naver_news</td>\n",
       "      <td>2021-04-13</td>\n",
       "      <td>[젠더의학①] 여성은 ‘몸집 작은 남성’이 아니다</td>\n",
       "      <td>의학에도 젠더 사상이 붙네 ㄷㄷ;</td>\n",
       "      <td>True</td>\n",
       "      <td>untargeted</td>\n",
       "      <td>None</td>\n",
       "      <td>젠더 사상이 붙네 ㄷㄷ;</td>\n",
       "      <td></td>\n",
       "      <td>[{'annotator_id': 185692, 'off_end_idx': None,...</td>\n",
       "    </tr>\n",
       "    <tr>\n",
       "      <th>2</th>\n",
       "      <td>kold-v1_00002</td>\n",
       "      <td>naver_news</td>\n",
       "      <td>2021-09-15</td>\n",
       "      <td>“책 생명 늘려야죠”… 문학 속 ‘성차별’ 패치 떼는 출판계</td>\n",
       "      <td>루브르 박물관에 있는 모나리자 머리도 단발로 수정하고,미국에 있는 자유의 여신상도 ...</td>\n",
       "      <td>True</td>\n",
       "      <td>group</td>\n",
       "      <td>others-feminist</td>\n",
       "      <td>모나리자 머리도 단발로 수정하고,미국에 있는 자유의 여신상도 콘크리트 부어서 가슴부...</td>\n",
       "      <td></td>\n",
       "      <td>[{'annotator_id': 181776, 'off_end_idx': [62],...</td>\n",
       "    </tr>\n",
       "    <tr>\n",
       "      <th>3</th>\n",
       "      <td>kold-v1_00003</td>\n",
       "      <td>naver_news</td>\n",
       "      <td>2021-01-14</td>\n",
       "      <td>이루다로 촉발된 젠더 논쟁... 개인정보 유출이란 본질 외면</td>\n",
       "      <td>진짜 어이가 없네 딥페이크 만든 사람들도 처벌하고 알페스 만든 사람들도 처벌하라니깐...</td>\n",
       "      <td>True</td>\n",
       "      <td>untargeted</td>\n",
       "      <td>None</td>\n",
       "      <td>왜 쫄리나..?</td>\n",
       "      <td></td>\n",
       "      <td>[{'annotator_id': 166167, 'off_end_idx': [104]...</td>\n",
       "    </tr>\n",
       "    <tr>\n",
       "      <th>4</th>\n",
       "      <td>kold-v1_00004</td>\n",
       "      <td>naver_news</td>\n",
       "      <td>2021-05-06</td>\n",
       "      <td>GS25, 브레이브걸스 포스터 또 젠더 이슈 논란</td>\n",
       "      <td>브레이브걸스=페미아이돌</td>\n",
       "      <td>True</td>\n",
       "      <td>group</td>\n",
       "      <td>others-others</td>\n",
       "      <td>페미아이돌</td>\n",
       "      <td>브레이브걸스</td>\n",
       "      <td>[{'annotator_id': 188083, 'off_end_idx': [11],...</td>\n",
       "    </tr>\n",
       "  </tbody>\n",
       "</table>\n",
       "</div>"
      ],
      "text/plain": [
       "            guid      source       date                              title  \\\n",
       "0  kold-v1_00000  naver_news 2021-07-25            페미니즘이 범죄가 되는 나라 [삶과 문화]   \n",
       "1  kold-v1_00001  naver_news 2021-04-13        [젠더의학①] 여성은 ‘몸집 작은 남성’이 아니다   \n",
       "2  kold-v1_00002  naver_news 2021-09-15  “책 생명 늘려야죠”… 문학 속 ‘성차별’ 패치 떼는 출판계   \n",
       "3  kold-v1_00003  naver_news 2021-01-14  이루다로 촉발된 젠더 논쟁... 개인정보 유출이란 본질 외면   \n",
       "4  kold-v1_00004  naver_news 2021-05-06        GS25, 브레이브걸스 포스터 또 젠더 이슈 논란   \n",
       "\n",
       "                                             comment   OFF         TGT  \\\n",
       "0  남녀평등 주장할 거면 여성징병제에도 동의하라고ㅋㅋㅋ 그리고 내 말에 그냥 시비만 걸...  True       group   \n",
       "1                                 의학에도 젠더 사상이 붙네 ㄷㄷ;  True  untargeted   \n",
       "2  루브르 박물관에 있는 모나리자 머리도 단발로 수정하고,미국에 있는 자유의 여신상도 ...  True       group   \n",
       "3  진짜 어이가 없네 딥페이크 만든 사람들도 처벌하고 알페스 만든 사람들도 처벌하라니깐...  True  untargeted   \n",
       "4                                       브레이브걸스=페미아이돌  True       group   \n",
       "\n",
       "               GRP                                           OFF_span  \\\n",
       "0  others-feminist                       쳐받으면서 왜 차별받는다고 말하는지 말해보라고ㅋㅋㅋ   \n",
       "1             None                                      젠더 사상이 붙네 ㄷㄷ;   \n",
       "2  others-feminist  모나리자 머리도 단발로 수정하고,미국에 있는 자유의 여신상도 콘크리트 부어서 가슴부...   \n",
       "3             None                                           왜 쫄리나..?   \n",
       "4    others-others                                              페미아이돌   \n",
       "\n",
       "  TGT_span                                         raw_labels  \n",
       "0           [{'annotator_id': 191510, 'off_end_idx': [84],...  \n",
       "1           [{'annotator_id': 185692, 'off_end_idx': None,...  \n",
       "2           [{'annotator_id': 181776, 'off_end_idx': [62],...  \n",
       "3           [{'annotator_id': 166167, 'off_end_idx': [104]...  \n",
       "4   브레이브걸스  [{'annotator_id': 188083, 'off_end_idx': [11],...  "
      ]
     },
     "execution_count": 4,
     "metadata": {},
     "output_type": "execute_result"
    }
   ],
   "source": [
    "import pandas as pd\n",
    "\n",
    "df = pd.DataFrame(ds[\"train\"][:5])  # 앞의 5개만 가져오기\n",
    "df.head()"
   ]
  }
 ],
 "metadata": {
  "kernelspec": {
   "display_name": "base",
   "language": "python",
   "name": "python3"
  },
  "language_info": {
   "codemirror_mode": {
    "name": "ipython",
    "version": 3
   },
   "file_extension": ".py",
   "mimetype": "text/x-python",
   "name": "python",
   "nbconvert_exporter": "python",
   "pygments_lexer": "ipython3",
   "version": "3.12.4"
  }
 },
 "nbformat": 4,
 "nbformat_minor": 5
}
